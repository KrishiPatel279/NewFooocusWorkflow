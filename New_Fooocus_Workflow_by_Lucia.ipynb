{
  "nbformat": 4,
  "nbformat_minor": 0,
  "metadata": {
    "colab": {
      "provenance": [],
      "authorship_tag": "ABX9TyMQXNVE/NRED05QZ+TVBC5L",
      "include_colab_link": true
    },
    "kernelspec": {
      "name": "python3",
      "display_name": "Python 3"
    },
    "language_info": {
      "name": "python"
    }
  },
  "cells": [
    {
      "cell_type": "markdown",
      "metadata": {
        "id": "view-in-github",
        "colab_type": "text"
      },
      "source": [
        "<a href=\"https://colab.research.google.com/github/KrishiPatel279/NewFooocusWorkflow/blob/main/New_Fooocus_Workflow_by_Lucia.ipynb\" target=\"_parent\"><img src=\"https://colab.research.google.com/assets/colab-badge.svg\" alt=\"Open In Colab\"/></a>"
      ]
    },
    {
      "cell_type": "markdown",
      "source": [
        "# Welcome!"
      ],
      "metadata": {
        "id": "FGiI6VRxwRqA"
      }
    },
    {
      "cell_type": "markdown",
      "source": [
        "Hi guys, I'm Lucia or Sofia. This is my Personal Fooocus Workflow that I use everytime now.\n",
        "\n",
        "Make sure to read the Instructions and Have fun\n",
        "\n",
        "For Beginners to Fooocus, You might want to experiment with the default model first, I suggest you read this: https://learn.rundiffusion.com/prompting-guide-for-juggernaut-x/\n",
        "\n",
        "Cheers!"
      ],
      "metadata": {
        "id": "u6-3zlH4iiTX"
      }
    },
    {
      "cell_type": "markdown",
      "metadata": {
        "id": "-2n3fEi9ZSAG"
      },
      "source": [
        "# Run this cell first. Wait for the Gradio link and then STOP IT!"
      ]
    },
    {
      "cell_type": "code",
      "execution_count": null,
      "metadata": {
        "id": "RE7s9aBHfsM4"
      },
      "outputs": [],
      "source": [
        "!pip install pygit2==1.12.2\n",
        "%cd /content\n",
        "!git clone https://github.com/lllyasviel/Fooocus.git\n",
        "%cd /content/Fooocus\n",
        "!python entry_with_update.py --share --always-high-vram"
      ]
    },
    {
      "cell_type": "markdown",
      "source": [
        "After stopping the above Fooocus cell (after you see the Gradio Link)\n",
        "\n",
        "Run this cell first to install the download tool. Without it, **NO DOWNLOADS**!!"
      ],
      "metadata": {
        "id": "lIU_O61wvbK4"
      }
    },
    {
      "cell_type": "code",
      "source": [
        "!apt -y install -qq aria2"
      ],
      "metadata": {
        "id": "qWF6Ru5vwZPo"
      },
      "execution_count": null,
      "outputs": []
    },
    {
      "cell_type": "markdown",
      "source": [
        "# Checkpoints"
      ],
      "metadata": {
        "id": "n7zTxj2HwI7I"
      }
    },
    {
      "cell_type": "markdown",
      "metadata": {
        "id": "j_Jiwm6BZaWV"
      },
      "source": [
        "Checkpoints (Only download the ones you need, Don't download all of them, Only dowload the ones that you would want to use. There are short instructions on which one and how to use them perfectly)"
      ]
    },
    {
      "cell_type": "markdown",
      "source": [
        "**FOR_REAL XL**\n",
        "\n",
        "I personally use and love this one\n",
        "\n",
        "Recommended Settings:\n",
        "Sampling Method: DDPM (my absolute favorite), Euler, DPM ++ 3M SDE\n",
        "\n",
        "Sampling Steps: 10 (Maximum 15) (more very rarely make a difference.)\n",
        "\n",
        "CFG Scale: 1-4 (lower = more realistic, i prefer 1-1.8)\n",
        "\n",
        "Hires steps: 15; Denoise: 0.28, upscale by 1.5 - 4 (If you're new to upscaling in Fooocus, forget about these settings and just have fun)"
      ],
      "metadata": {
        "id": "L2uvN-b2gUle"
      }
    },
    {
      "cell_type": "code",
      "execution_count": null,
      "metadata": {
        "id": "--Z1FCMfz4Mi"
      },
      "outputs": [],
      "source": [
        "!aria2c --console-log-level=error -c -x 16 -s 16 -k 1M \"https://civitai.com/api/download/models/518881?type=Model&format=SafeTensor&size=full&fp=fp32&token=63e9da4166300a8fa859a0ee0a521127\" -d /content/Fooocus/models/checkpoints/ -o ForRealXL.safetensors"
      ]
    },
    {
      "cell_type": "markdown",
      "source": [
        "**PIC_X_REAL**\n",
        "\n",
        "This model is less boring-rough and more diverse than the \"ultra-realistic\" models, and less animesh-asian and more realistic than the \"soft-realistic\" models.\n",
        "\n",
        "This one i use as a Refiner for Inpainting (**DO NOT USE IT AS A BASE MODEL!**)"
      ],
      "metadata": {
        "id": "5Ftbc03RhKgX"
      }
    },
    {
      "cell_type": "code",
      "execution_count": null,
      "metadata": {
        "id": "xYO-7lyJhywY"
      },
      "outputs": [],
      "source": [
        "!aria2c --console-log-level=error -c -x 16 -s 16 -k 1M \"https://civitai.com/api/download/models/272376?type=Model&format=SafeTensor&size=pruned&fp=fp16&token=63e9da4166300a8fa859a0ee0a521127\" -d /content/Fooocus/models/checkpoints/ -o PicXReal.safetensors"
      ]
    },
    {
      "cell_type": "markdown",
      "source": [
        "**Zavy Chroma XL**\n",
        "\n",
        "This model is another oe for increased realism. Don't underestimate it in any way.\n",
        "\n",
        "Prompts\n",
        "Recommended positive prompts for specifically photorealism: 2000s vintage RAW photo, photorealistic, film grain, candid camera, color graded cinematic, eye catchlights, atmospheric lighting, macro shot, skin pores, imperfections, natural, shallow dof, or other photography related tokens.\n",
        "\n",
        "Recommended negative prompts: As few negative prompts as you can, only use it when it does something you do not want, like watermarks. Consider using high contrast, oily skin, plastic skin if the skin is too contrasting or too oily/plastic. Also make sure to add anime to negative prompt if you want better photorealism, and more mature looking characters.\n",
        "\n",
        "You are further encouraged to include additional specific details regarding the desired output. This should involve specifying the preferred style, camera angle, lighting techniques, poses, color schemes, and other relevant factors.\n",
        "\n",
        "Recommended settings\n",
        "\n",
        "sdxl_vae.safetensors (baked in).\n",
        "\n",
        "DPM++ 3M SDE Exponential, DPM++ 2M SDE Karras, DPM++ 2M Karras, Euler A\n",
        "\n",
        "Steps 20~40 (lower range for DPM, higher range for Euler).\n",
        "\n",
        "Hires upscaler: UltraMix_Balanced.\n",
        "\n",
        "Hires upscale: preferably between 1.5x~2x.\n",
        "\n",
        "CFG scale 4-10 (preferably somewhere around cfg 6-7)"
      ],
      "metadata": {
        "id": "bftJRvGKKpNm"
      }
    },
    {
      "cell_type": "code",
      "source": [
        "!aria2c --console-log-level=error -c -x 16 -s 16 -k 1M \"https://civitai.com/api/download/models/490254?type=Model&format=SafeTensor&size=full&fp=fp16&token=63e9da4166300a8fa859a0ee0a521127\" -d /content/Fooocus/models/checkpoints -o ZavyChromaXL.safetensors"
      ],
      "metadata": {
        "id": "w7T1BfF1KpqZ"
      },
      "execution_count": null,
      "outputs": []
    },
    {
      "cell_type": "markdown",
      "source": [
        "**CINENAUT XL (TRULY CINEMATIC MODEL)**\n",
        "\n",
        "This one below is one of my favorite cinematic models ever!!\n",
        "\n",
        "This is a very simple merge of Juggernaut XL (KandooAI) and CineVisionXL (socalguitarist) = A TRUE CINEMATIC DIFFUSION MERGE base model.\n",
        "\n",
        "So powerful it can generate 1920x1080 still images 80% of the time without any deformations. Hell, you can even go beyond that!"
      ],
      "metadata": {
        "id": "q_8o8jCbiHwG"
      }
    },
    {
      "cell_type": "code",
      "execution_count": null,
      "metadata": {
        "id": "npeq923wiDDI"
      },
      "outputs": [],
      "source": [
        "!aria2c --console-log-level=error -c -x 16 -s 16 -k 1M \"https://civitai.com/api/download/models/473793?type=Model&format=SafeTensor&size=full&fp=fp16&token=63e9da4166300a8fa859a0ee0a521127\" -d /content/Fooocus/models/checkpoints/ -o CineNautXL.safetensors"
      ]
    },
    {
      "cell_type": "markdown",
      "source": [
        "**ManMaru_XL**\n",
        "\n",
        "This is the SDXL version of ManMaru_Mix.\n",
        "\n",
        "It is strictly for **Anime**.\n",
        "\n",
        "Do not use it if you want realistic photos"
      ],
      "metadata": {
        "id": "KSILHBWQmPmv"
      }
    },
    {
      "cell_type": "code",
      "execution_count": null,
      "metadata": {
        "id": "xxqCCFosm9O2"
      },
      "outputs": [],
      "source": [
        "!aria2c --console-log-level=error -c -x 16 -s 16 -k 1M \"https://civitai.com/api/download/models/453866?type=Model&format=SafeTensor&size=full&fp=fp16&token=63e9da4166300a8fa859a0ee0a521127\" -d /content/Fooocus/models/checkpoints/ -o CineNautXL.safetensors"
      ]
    },
    {
      "cell_type": "markdown",
      "source": [
        "**STOIQO NewRealityXL**\n",
        "\n",
        "This model is for artists and creators who demand high-quality results, featuring dynamic light management and intricate textures, making it the ultimate tool for top-tier creative work.\n",
        "\n",
        "I use it mainly for Sofia and her creative and artistic images\n",
        "\n",
        "Recommended Settings:\n",
        "\n",
        "MAIN SAMPLER (Recommended): dpmpp_3m_sde + exponential\n",
        "\n",
        "OTHER SAMPLERS: dpmpp_3m_sde + karras or dpmpp_sde + Karras\n",
        "\n",
        "FOR MORE REALISM: CFG: 2 or 3 | STEPS: 12 to 24\n",
        "\n",
        "FOR BALANCING (Recommended): CFG: 4 | STEPS: 16 to 40\n",
        "\n",
        "FOR MORE CREATIVITY: CFG: 5 or 6 | STEPS: 28 to 40"
      ],
      "metadata": {
        "id": "OeddYPWErLXe"
      }
    },
    {
      "cell_type": "code",
      "execution_count": null,
      "metadata": {
        "id": "SAp2RHCprK6P"
      },
      "outputs": [],
      "source": [
        "!aria2c --console-log-level=error -c -x 16 -s 16 -k 1M \"https://civitai.com/api/download/models/479474?type=Model&format=SafeTensor&size=full&fp=fp16&token=63e9da4166300a8fa859a0ee0a521127\" -d /content/Fooocus/models/checkpoints/ -o STOIQO_AllInOneXL.safetensors"
      ]
    },
    {
      "cell_type": "markdown",
      "source": [
        "**STOIQO AphroditeXL**\n",
        "\n",
        "This model is for people who want the ultimate tool for top-tier nude Fanvue work.\n",
        "\n",
        "I use it mainly for Lucia and her Fanvue nude images.\n",
        "\n",
        "Recommended Settings:\n",
        "\n",
        "MAIN SAMPLER (Recommended): dpmpp_3m_sde + exponential\n",
        "\n",
        "OTHER SAMPLERS: dpmpp_3m_sde + karras or dpmpp_sde + Karras\n",
        "\n",
        "FOR MORE REALISM: CFG: 2 or 3 | STEPS: 12 to 24\n",
        "\n",
        "FOR BALANCING (Recommended): CFG: 4 | STEPS: 16 to 40\n",
        "\n",
        "FOR MORE CREATIVITY: CFG: 5 or 6 | STEPS: 28 to 40"
      ],
      "metadata": {
        "id": "1yUgPa4Oswm3"
      }
    },
    {
      "cell_type": "code",
      "execution_count": null,
      "metadata": {
        "id": "HzIxCwqJswIi"
      },
      "outputs": [],
      "source": [
        "!aria2c --console-log-level=error -c -x 16 -s 16 -k 1M \"https://civitai.com/api/download/models/450105?type=Model&format=SafeTensor&size=full&fp=fp16&token=63e9da4166300a8fa859a0ee0a521127\" -d /content/Fooocus/models/checkpoints/ -o STOIQO_AfroditeXL.safetensors"
      ]
    },
    {
      "cell_type": "markdown",
      "source": [
        "**Wildcard XL**\n",
        "\n",
        "This checkpoint is mainly for artistic stuff. Both SFW and NSFW."
      ],
      "metadata": {
        "id": "Qy6Hggcn7am_"
      }
    },
    {
      "cell_type": "code",
      "source": [
        "!aria2c --console-log-level=error -c -x 16 -s 16 -k 1M \"https://civitai.com/api/download/models/308455?type=Model&format=SafeTensor&size=full&fp=bf16&token=63e9da4166300a8fa859a0ee0a521127\" -d /content/Fooocus/models/checkpoints/ -o WildcardXL.safetensors"
      ],
      "metadata": {
        "id": "yVdNwKmW7awn"
      },
      "execution_count": null,
      "outputs": []
    },
    {
      "cell_type": "markdown",
      "source": [
        "# Loras"
      ],
      "metadata": {
        "id": "zTUS_Km5wdbw"
      }
    },
    {
      "cell_type": "markdown",
      "source": [
        "Loras (Only download the ones you need, Don't download all of them, Only dowload the ones that you would want to use. There are short instructions on which one to use for what use case and how to use them perfectly)"
      ],
      "metadata": {
        "id": "FP3sDr1kuvRv"
      }
    },
    {
      "cell_type": "markdown",
      "source": [
        "**Midjourney Mimic**\n",
        "\n",
        "One of my absolute favorite loras. I 100000% recommend that you use it with the recommended settings below.\n",
        "\n",
        "Use only with lora weight from 0.1 to 0.8! you can set more, but the picture will be overcolored (smooth edges) and can break proportions.\n",
        "\n",
        "CFG Scale 1 - 6.\n",
        "\n",
        "use it like pepper, just add a little bit to the picture"
      ],
      "metadata": {
        "id": "ZR--8bPKwrX3"
      }
    },
    {
      "cell_type": "code",
      "source": [
        "!aria2c --console-log-level=error -c -x 16 -s 16 -k 1M \"https://civitai.com/api/download/models/283697&token=63e9da4166300a8fa859a0ee0a521127\" -d /content/Fooocus/models/loras -o Midjourney52.safetensors"
      ],
      "metadata": {
        "id": "LD5Lk9aFwqqI"
      },
      "execution_count": null,
      "outputs": []
    },
    {
      "cell_type": "markdown",
      "source": [
        "**Midjourney Portrait Mimic**\n",
        "\n",
        "Lora_Scale: 0.4 - 0.8\n",
        "\n",
        "DPM++ 2M SDE Automatic\n",
        "\n",
        "CFG Scale 1, 2, 3 , 5 - 7 (recommend 4)\n"
      ],
      "metadata": {
        "id": "Ay_-Tt8I9oTY"
      }
    },
    {
      "cell_type": "code",
      "source": [
        "!aria2c --console-log-level=error -c -x 16 -s 16 -k 1M \"https://civitai.com/api/download/models/532451?type=Model&format=SafeTensor&token=63e9da4166300a8fa859a0ee0a521127\" -d /content/Fooocus/models/loras -o MidjourneyPortraits_Mimic.safetensors"
      ],
      "metadata": {
        "id": "9uLXvo_s9o9Q"
      },
      "execution_count": null,
      "outputs": []
    },
    {
      "cell_type": "markdown",
      "source": [
        "**Midjourney Portraits**\n",
        "\n",
        "This model is mostly used for replicating midjourney portraits.\n",
        "\n",
        "Recommend for prompt: adding \"photography, cinematic, highly detailed, very realistic"
      ],
      "metadata": {
        "id": "mrobRaRE9VSo"
      }
    },
    {
      "cell_type": "code",
      "execution_count": null,
      "metadata": {
        "id": "nT0i53j69J_B"
      },
      "outputs": [],
      "source": [
        "!aria2c --console-log-level=error -c -x 16 -s 16 -k 1M \"https://civitai.com/api/download/models/524974?type=Model&format=SafeTensor&token=63e9da4166300a8fa859a0ee0a521127\" -d /content/Fooocus/models/loras -o Midjourney_Portraits.safetensors"
      ]
    },
    {
      "cell_type": "markdown",
      "source": [
        "**MJ V6 Style**\n",
        "\n",
        "I use MJ V6 in rare cases but it is a good loras.\n",
        "\n",
        "Recommended lora weight 0.1 - 0.5 (I don't recommend using it at weight above 0.5)"
      ],
      "metadata": {
        "id": "aeqR4DdH2dH3"
      }
    },
    {
      "cell_type": "code",
      "source": [
        "!aria2c --console-log-level=error -c -x 16 -s 16 -k 1M \"https://civitai.com/api/download/models/280621?type=Model&format=SafeTensor&token=63e9da4166300a8fa859a0ee0a521127\" -d /content/Fooocus/models/loras -o MJV6.safetensors"
      ],
      "metadata": {
        "id": "SPjdkcOP2daC"
      },
      "execution_count": null,
      "outputs": []
    },
    {
      "cell_type": "markdown",
      "source": [
        "**Add_Details_XL**\n",
        "\n",
        "This Lora is adds a ton of details to your Raw images\n",
        "\n",
        "I recommend you to use it at Weights 1 - 1.2 (Maximum 1.2)"
      ],
      "metadata": {
        "id": "JlERhA880u34"
      }
    },
    {
      "cell_type": "code",
      "execution_count": null,
      "metadata": {
        "id": "hD4cGrEWT3T1"
      },
      "outputs": [],
      "source": [
        "!aria2c --console-log-level=error -c -x 16 -s 16 -k 1M \"https://civitai.com/api/download/models/135867&token=63e9da4166300a8fa859a0ee0a521127\" -d /content/Fooocus/models/loras -o Details.safetensors"
      ]
    },
    {
      "cell_type": "markdown",
      "source": [
        "**Wildcard Details XL**\n",
        "\n",
        "This lora also adds details to the raw images.\n",
        "\n",
        "I recommend you to use it at weights 0.8 and above"
      ],
      "metadata": {
        "id": "fu8_NkTA6Mfg"
      }
    },
    {
      "cell_type": "code",
      "execution_count": null,
      "metadata": {
        "id": "Po1aNQ4z6GCM"
      },
      "outputs": [],
      "source": [
        "!aria2c --console-log-level=error -c -x 16 -s 16 -k 1M \"https://civitai.com/api/download/models/298448?type=Model&format=SafeTensor&token=63e9da4166300a8fa859a0ee0a521127\" -d /content/Fooocus/models/loras -o Wildcard_XL.safetensors"
      ]
    },
    {
      "cell_type": "markdown",
      "source": [
        "**Winkers**\n",
        "\n",
        "Love you Jana\n",
        "\n",
        "I think this LoRa has a good potential for much more real facial expressions especially at lower weights ~0.4, also eyes are usually very good, have fun ! You can add \"angry\" or \"sad\" etc\n",
        "\n",
        "USE TRIGGER WORDS:\n",
        "\n",
        "ARTISTIC MAKEUP WITH\n",
        "\n",
        "BITING ON OWN LIPS\n",
        "\n",
        "WINKS WITH ONE EYE AT VIEWER"
      ],
      "metadata": {
        "id": "ZvrkLOkH3G6H"
      }
    },
    {
      "cell_type": "code",
      "execution_count": null,
      "metadata": {
        "id": "x3Zuv04n3GY-"
      },
      "outputs": [],
      "source": [
        "!aria2c --console-log-level=error -c -x 16 -s 16 -k 1M \"https://civitai.com/api/download/models/420550?type=Model&format=SafeTensor&token=63e9da4166300a8fa859a0ee0a521127\" -d /content/Fooocus/models/loras -o Winkers.safetensors"
      ]
    },
    {
      "cell_type": "markdown",
      "source": [
        "**Split Lighting**\n",
        "\n",
        "I use it for the Monochrome portraits to get that studio light on one side of the person's face.\n",
        "\n",
        "Trigger words:\n",
        "\n",
        "SPLIT LIGHTING PHOTOGRAPHY STYLE\n",
        "\n",
        "FACE SHADOW"
      ],
      "metadata": {
        "id": "b0f1RHXI-k7P"
      }
    },
    {
      "cell_type": "code",
      "source": [
        "!aria2c --console-log-level=error -c -x 16 -s 16 -k 1M \"https://civitai.com/api/download/models/426363?type=Model&format=SafeTensor&token=63e9da4166300a8fa859a0ee0a521127\" -d /content/Fooocus/models/loras -o SplitLighting.safetensors"
      ],
      "metadata": {
        "id": "JTC2Iyeh-lII"
      },
      "execution_count": null,
      "outputs": []
    },
    {
      "cell_type": "markdown",
      "source": [
        "Silhouette Lighting\n",
        "\n",
        "I mostly use this LoRa for cinematic silhouette lighting.\n",
        "\n",
        "Recommended"
      ],
      "metadata": {
        "id": "5ePigshAAfLP"
      }
    },
    {
      "cell_type": "code",
      "source": [
        "!aria2c --console-log-level=error -c -x 16 -s 16 -k 1M \"https://civitai.com/api/download/models/436268?type=Model&format=SafeTensor&token=63e9da4166300a8fa859a0ee0a521127\" -d /content/Fooocus/models/loras -o Silhouette_Lighting.safetensors"
      ],
      "metadata": {
        "id": "YR40oXVhAxJK"
      },
      "execution_count": null,
      "outputs": []
    },
    {
      "cell_type": "markdown",
      "source": [
        "**Cinematic Volumetric Lighting(God-Rays)**\n",
        "\n",
        "Google \"God-Rays\".\n",
        "\n",
        "This Lora adds that to your images"
      ],
      "metadata": {
        "id": "UA0fChCOBdBI"
      }
    },
    {
      "cell_type": "code",
      "source": [
        "!aria2c --console-log-level=error -c -x 16 -s 16 -k 1M \"https://civitai.com/api/download/models/325538?type=Model&format=SafeTensor&token=63e9da4166300a8fa859a0ee0a521127\" -d /content/Fooocus/models/loras -o God_Rays.safetensors"
      ],
      "metadata": {
        "id": "xFGkByTaBYXI"
      },
      "execution_count": null,
      "outputs": []
    },
    {
      "cell_type": "markdown",
      "source": [
        "**BackLight for Hair Lighting**\n",
        "\n",
        "This lora adds those awesome lighting effects in the hair.\n",
        "\n",
        "Trigger Words:\n",
        "\n",
        "BACKLIGHT STYLE\n",
        "\n",
        "HAIR LIGHT"
      ],
      "metadata": {
        "id": "OgRis8cDFlVs"
      }
    },
    {
      "cell_type": "code",
      "source": [
        "!aria2c --console-log-level=error -c -x 16 -s 16 -k 1M \"https://civitai.com/api/download/models/425158?type=Model&format=SafeTensor&token=63e9da4166300a8fa859a0ee0a521127\" -d /content/Fooocus/models/loras -o HairLights.safetensors"
      ],
      "metadata": {
        "id": "CgMEsg16DzuC"
      },
      "execution_count": null,
      "outputs": []
    },
    {
      "cell_type": "markdown",
      "source": [
        "**Feet**\n",
        "\n",
        "It says what it does, Better rendering of feet\n",
        "\n",
        "Mostly 🤭\n",
        "\n",
        "Trigger words:\n",
        "\n",
        "Feet\n",
        "\n",
        "Foot\n"
      ],
      "metadata": {
        "id": "veo8fLGAETu3"
      }
    },
    {
      "cell_type": "code",
      "source": [
        "!aria2c --console-log-level=error -c -x 16 -s 16 -k 1M \"https://civitai.com/api/download/models/471781?type=Model&format=SafeTensor&token=63e9da4166300a8fa859a0ee0a521127\" -d /content/Fooocus/models/loras -o Feet.safetensors"
      ],
      "metadata": {
        "id": "XVxGaKvMETBF"
      },
      "execution_count": null,
      "outputs": []
    },
    {
      "cell_type": "markdown",
      "source": [
        "**Hands**\n",
        "\n",
        "Again, It says what is does, Better hands\n",
        "\n",
        "Trigger Words:\n",
        "\n",
        "HAND\n",
        "\n",
        "DETAILED\n",
        "\n",
        "PERFECT\n",
        "\n",
        "PERFECTION\n",
        "\n",
        "HANDS"
      ],
      "metadata": {
        "id": "KpJL-IaxJSVS"
      }
    },
    {
      "cell_type": "code",
      "source": [
        "!aria2c --console-log-level=error -c -x 16 -s 16 -k 1M \"https://civitai.com/api/download/models/471794?type=Model&format=SafeTensor&token=63e9da4166300a8fa859a0ee0a521127\" -d /content/Fooocus/models/loras -o Feet.safetensors"
      ],
      "metadata": {
        "id": "a1oMdTzSJnqf"
      },
      "execution_count": null,
      "outputs": []
    },
    {
      "cell_type": "markdown",
      "source": [
        "**Zavy Stripes**\n",
        "\n",
        "Generate stripes within your image, whether they manifest as shadow lines, striped attire, or other elements. Enhances the probability of achieving cleaner lines, irrespective of their straightness.\n",
        "\n",
        "Trigger words:\n",
        "\n",
        "zavy-strps"
      ],
      "metadata": {
        "id": "Ot3oKw6rMQkP"
      }
    },
    {
      "cell_type": "code",
      "source": [
        "!aria2c --console-log-level=error -c -x 16 -s 16 -k 1M \"https://civitai.com/api/download/models/432950?type=Model&format=SafeTensor&token=63e9da4166300a8fa859a0ee0a521127\" -d /content/Fooocus/models/loras -o ZavyStripes.safetensors"
      ],
      "metadata": {
        "id": "Tlm6WoRWMU2k"
      },
      "execution_count": null,
      "outputs": []
    },
    {
      "cell_type": "markdown",
      "source": [
        "**Zavy Cinematic**\n",
        "\n",
        "This LoRA mimics the essence of a cinematic still. It typically produces a shallow depth of field, particularly when the subject, such as a person, is well-defined in the image\n",
        "\n",
        "Trigger words:\n",
        "\n",
        "zavy-cnmtc"
      ],
      "metadata": {
        "id": "TflqrnRQMdfI"
      }
    },
    {
      "cell_type": "code",
      "source": [
        "!aria2c --console-log-level=error -c -x 16 -s 16 -k 1M \"https://civitai.com/api/download/models/399652?type=Model&format=SafeTensor&token=63e9da4166300a8fa859a0ee0a521127\" -d /content/Fooocus/models/loras -o ZavyCinematic.safetensors"
      ],
      "metadata": {
        "id": "kloXKHenNUPZ"
      },
      "execution_count": null,
      "outputs": []
    },
    {
      "cell_type": "markdown",
      "source": [
        "**Zavy Light Trails**\n",
        "\n",
        "More movement in your scenes with Zavy's Light Trails. Mimicing that long long exposure effect of moving light, elongated light bundels. It's also has been trained on various other light painting techniques, so you can do a bit of light painting with it as well.\n",
        "\n",
        "Trigger words:\n",
        "\n",
        "zavy-lghttrl"
      ],
      "metadata": {
        "id": "i5GeEd4hNcAD"
      }
    },
    {
      "cell_type": "code",
      "source": [
        "!aria2c --console-log-level=error -c -x 16 -s 16 -k 1M \"https://civitai.com/api/download/models/408304?type=Model&format=SafeTensor&token=63e9da4166300a8fa859a0ee0a521127\" -d /content/Fooocus/models/loras -o ZavyTrails.safetensors"
      ],
      "metadata": {
        "id": "7Q9dQL80NsOT"
      },
      "execution_count": null,
      "outputs": []
    }
  ]
}